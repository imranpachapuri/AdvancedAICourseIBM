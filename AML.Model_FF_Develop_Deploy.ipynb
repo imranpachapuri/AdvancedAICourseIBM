{
 "cells": [
  {
   "cell_type": "markdown",
   "metadata": {
    "collapsed": true
   },
   "source": [
    "# AML Fraud Detection\n",
    "Classification of Frauds using Neural Network"
   ]
  },
  {
   "cell_type": "markdown",
   "metadata": {},
   "source": [
    "Importing the data from the CSV file stored in the cloud object storage and saving it in the data frame"
   ]
  },
  {
   "cell_type": "code",
   "execution_count": 201,
   "metadata": {
    "scrolled": false
   },
   "outputs": [
    {
     "data": {
      "text/html": [
       "<div>\n",
       "<style scoped>\n",
       "    .dataframe tbody tr th:only-of-type {\n",
       "        vertical-align: middle;\n",
       "    }\n",
       "\n",
       "    .dataframe tbody tr th {\n",
       "        vertical-align: top;\n",
       "    }\n",
       "\n",
       "    .dataframe thead th {\n",
       "        text-align: right;\n",
       "    }\n",
       "</style>\n",
       "<table border=\"1\" class=\"dataframe\">\n",
       "  <thead>\n",
       "    <tr style=\"text-align: right;\">\n",
       "      <th></th>\n",
       "      <th>step</th>\n",
       "      <th>type</th>\n",
       "      <th>amount</th>\n",
       "      <th>nameOrig</th>\n",
       "      <th>oldbalanceOrg</th>\n",
       "      <th>newbalanceOrig</th>\n",
       "      <th>nameDest</th>\n",
       "      <th>oldbalanceDest</th>\n",
       "      <th>newbalanceDest</th>\n",
       "      <th>isFraud</th>\n",
       "      <th>isFlaggedFraud</th>\n",
       "    </tr>\n",
       "  </thead>\n",
       "  <tbody>\n",
       "    <tr>\n",
       "      <th>31052</th>\n",
       "      <td>95.0</td>\n",
       "      <td>TRANSFER</td>\n",
       "      <td>56745.14</td>\n",
       "      <td>C872526349</td>\n",
       "      <td>56745.14</td>\n",
       "      <td>0.0</td>\n",
       "      <td>C1824885183</td>\n",
       "      <td>0.00</td>\n",
       "      <td>0.00</td>\n",
       "      <td>1.0</td>\n",
       "      <td>0.0</td>\n",
       "    </tr>\n",
       "    <tr>\n",
       "      <th>31053</th>\n",
       "      <td>95.0</td>\n",
       "      <td>CASH_OUT</td>\n",
       "      <td>56745.14</td>\n",
       "      <td>C526144262</td>\n",
       "      <td>56745.14</td>\n",
       "      <td>0.0</td>\n",
       "      <td>C79051264</td>\n",
       "      <td>51433.88</td>\n",
       "      <td>108179.02</td>\n",
       "      <td>1.0</td>\n",
       "      <td>0.0</td>\n",
       "    </tr>\n",
       "    <tr>\n",
       "      <th>31054</th>\n",
       "      <td>95.0</td>\n",
       "      <td>TRANSFER</td>\n",
       "      <td>33676.59</td>\n",
       "      <td>C732111322</td>\n",
       "      <td>33676.59</td>\n",
       "      <td>0.0</td>\n",
       "      <td>C1140210295</td>\n",
       "      <td>0.00</td>\n",
       "      <td>0.00</td>\n",
       "      <td>1.0</td>\n",
       "      <td>0.0</td>\n",
       "    </tr>\n",
       "    <tr>\n",
       "      <th>31055</th>\n",
       "      <td>95.0</td>\n",
       "      <td>CASH_OUT</td>\n",
       "      <td>33676.59</td>\n",
       "      <td>C1000086512</td>\n",
       "      <td>33676.59</td>\n",
       "      <td>0.0</td>\n",
       "      <td>C1759363094</td>\n",
       "      <td>0.00</td>\n",
       "      <td>33676.59</td>\n",
       "      <td>1.0</td>\n",
       "      <td>0.0</td>\n",
       "    </tr>\n",
       "    <tr>\n",
       "      <th>31056</th>\n",
       "      <td>95.0</td>\n",
       "      <td>TRANSFER</td>\n",
       "      <td>87999.25</td>\n",
       "      <td>C927181710</td>\n",
       "      <td>87999.25</td>\n",
       "      <td>0.0</td>\n",
       "      <td>C757947873</td>\n",
       "      <td>0.00</td>\n",
       "      <td>0.00</td>\n",
       "      <td>1.0</td>\n",
       "      <td>0.0</td>\n",
       "    </tr>\n",
       "  </tbody>\n",
       "</table>\n",
       "</div>"
      ],
      "text/plain": [
       "       step      type    amount     nameOrig  oldbalanceOrg  newbalanceOrig  \\\n",
       "31052  95.0  TRANSFER  56745.14   C872526349       56745.14             0.0   \n",
       "31053  95.0  CASH_OUT  56745.14   C526144262       56745.14             0.0   \n",
       "31054  95.0  TRANSFER  33676.59   C732111322       33676.59             0.0   \n",
       "31055  95.0  CASH_OUT  33676.59  C1000086512       33676.59             0.0   \n",
       "31056  95.0  TRANSFER  87999.25   C927181710       87999.25             0.0   \n",
       "\n",
       "          nameDest  oldbalanceDest  newbalanceDest  isFraud  isFlaggedFraud  \n",
       "31052  C1824885183            0.00            0.00      1.0             0.0  \n",
       "31053    C79051264        51433.88       108179.02      1.0             0.0  \n",
       "31054  C1140210295            0.00            0.00      1.0             0.0  \n",
       "31055  C1759363094            0.00        33676.59      1.0             0.0  \n",
       "31056   C757947873            0.00            0.00      1.0             0.0  "
      ]
     },
     "execution_count": 201,
     "metadata": {},
     "output_type": "execute_result"
    }
   ],
   "source": [
    "\n",
    "import types\n",
    "import pandas as pd\n",
    "from botocore.client import Config\n",
    "import ibm_boto3\n",
    "\n",
    "def __iter__(self): return 0\n",
    "\n",
    "# @hidden_cell\n",
    "# The following code accesses a file in your IBM Cloud Object Storage. It includes your credentials.\n",
    "# You might want to remove those credentials before you share your notebook.\n",
    "client_9ad76f82714e48d7811b2543f2936693 = ibm_boto3.client(service_name='s3',\n",
    "    ibm_api_key_id='LULdO8iN1GZFvjpg50QiRnWJ5P8eKsQXFxJaHODlPJWJ',\n",
    "    ibm_auth_endpoint=\"https://iam.bluemix.net/oidc/token\",\n",
    "    config=Config(signature_version='oauth'),\n",
    "    endpoint_url='https://s3-api.us-geo.objectstorage.service.networklayer.com')\n",
    "\n",
    "body = client_9ad76f82714e48d7811b2543f2936693.get_object(Bucket='dsx-donotdelete-pr-tjck77hosph311',Key='subset.csv')['Body']\n",
    "# add missing __iter__ method, so pandas accepts body as file-like object\n",
    "if not hasattr(body, \"__iter__\"): body.__iter__ = types.MethodType( __iter__, body )\n",
    "\n",
    "df_data = pd.read_csv(body)\n",
    "df_data_1 = df_data[0 : 31057]\n",
    "df_data_1.tail()\n",
    "\n"
   ]
  },
  {
   "cell_type": "markdown",
   "metadata": {},
   "source": [
    "Previewing the imported data"
   ]
  },
  {
   "cell_type": "code",
   "execution_count": 202,
   "metadata": {},
   "outputs": [
    {
     "name": "stdout",
     "output_type": "stream",
     "text": [
      "   step     type    amount     nameOrig  oldbalanceOrg  newbalanceOrig  \\\n",
      "0   1.0  PAYMENT   9839.64  C1231006815       170136.0       160296.36   \n",
      "1   1.0  PAYMENT   1864.28  C1666544295        21249.0        19384.72   \n",
      "2   1.0  PAYMENT  11668.14  C2048537720        41554.0        29885.86   \n",
      "3   1.0  PAYMENT   7817.71    C90045638        53860.0        46042.29   \n",
      "4   1.0  PAYMENT   7107.77   C154988899       183195.0       176087.23   \n",
      "\n",
      "      nameDest  oldbalanceDest  newbalanceDest  isFraud  isFlaggedFraud  \n",
      "0  M1979787155             0.0             0.0      0.0             0.0  \n",
      "1  M2044282225             0.0             0.0      0.0             0.0  \n",
      "2  M1230701703             0.0             0.0      0.0             0.0  \n",
      "3   M573487274             0.0             0.0      0.0             0.0  \n",
      "4   M408069119             0.0             0.0      0.0             0.0  \n",
      "<class 'pandas.core.frame.DataFrame'>\n",
      "RangeIndex: 31057 entries, 0 to 31056\n",
      "Data columns (total 11 columns):\n",
      "step              31057 non-null float64\n",
      "type              31057 non-null object\n",
      "amount            31057 non-null float64\n",
      "nameOrig          31057 non-null object\n",
      "oldbalanceOrg     31057 non-null float64\n",
      "newbalanceOrig    31057 non-null float64\n",
      "nameDest          31057 non-null object\n",
      "oldbalanceDest    31057 non-null float64\n",
      "newbalanceDest    31057 non-null float64\n",
      "isFraud           31057 non-null float64\n",
      "isFlaggedFraud    31057 non-null float64\n",
      "dtypes: float64(8), object(3)\n",
      "memory usage: 2.6+ MB\n",
      "None\n"
     ]
    }
   ],
   "source": [
    "print(df_data_1.head())\n",
    "print(df_data_1.info())\n",
    "\n"
   ]
  },
  {
   "cell_type": "markdown",
   "metadata": {},
   "source": [
    "Importing the libraries and defining variables"
   ]
  },
  {
   "cell_type": "code",
   "execution_count": 203,
   "metadata": {},
   "outputs": [],
   "source": [
    "from keras.layers import Dense\n",
    "from keras.layers import LSTM, Input\n",
    "from keras.models import Model\n",
    "import h5py\n",
    "from keras.models import Sequential\n",
    "from keras.layers import Dense, Dropout\n",
    "\n",
    "batch_size = 10\n",
    "num_classes = 2\n",
    "epochs = 10\n"
   ]
  },
  {
   "cell_type": "markdown",
   "metadata": {},
   "source": [
    "Data cleansing to remove features not relevant"
   ]
  },
  {
   "cell_type": "code",
   "execution_count": 204,
   "metadata": {},
   "outputs": [
    {
     "data": {
      "text/html": [
       "<div>\n",
       "<style scoped>\n",
       "    .dataframe tbody tr th:only-of-type {\n",
       "        vertical-align: middle;\n",
       "    }\n",
       "\n",
       "    .dataframe tbody tr th {\n",
       "        vertical-align: top;\n",
       "    }\n",
       "\n",
       "    .dataframe thead th {\n",
       "        text-align: right;\n",
       "    }\n",
       "</style>\n",
       "<table border=\"1\" class=\"dataframe\">\n",
       "  <thead>\n",
       "    <tr style=\"text-align: right;\">\n",
       "      <th></th>\n",
       "      <th>step</th>\n",
       "      <th>type</th>\n",
       "      <th>amount</th>\n",
       "      <th>oldbalanceOrg</th>\n",
       "      <th>newbalanceOrig</th>\n",
       "      <th>oldbalanceDest</th>\n",
       "      <th>newbalanceDest</th>\n",
       "      <th>isFraud</th>\n",
       "    </tr>\n",
       "  </thead>\n",
       "  <tbody>\n",
       "    <tr>\n",
       "      <th>0</th>\n",
       "      <td>1.0</td>\n",
       "      <td>PAYMENT</td>\n",
       "      <td>9839.64</td>\n",
       "      <td>170136.0</td>\n",
       "      <td>160296.36</td>\n",
       "      <td>0.0</td>\n",
       "      <td>0.0</td>\n",
       "      <td>0.0</td>\n",
       "    </tr>\n",
       "    <tr>\n",
       "      <th>1</th>\n",
       "      <td>1.0</td>\n",
       "      <td>PAYMENT</td>\n",
       "      <td>1864.28</td>\n",
       "      <td>21249.0</td>\n",
       "      <td>19384.72</td>\n",
       "      <td>0.0</td>\n",
       "      <td>0.0</td>\n",
       "      <td>0.0</td>\n",
       "    </tr>\n",
       "    <tr>\n",
       "      <th>2</th>\n",
       "      <td>1.0</td>\n",
       "      <td>PAYMENT</td>\n",
       "      <td>11668.14</td>\n",
       "      <td>41554.0</td>\n",
       "      <td>29885.86</td>\n",
       "      <td>0.0</td>\n",
       "      <td>0.0</td>\n",
       "      <td>0.0</td>\n",
       "    </tr>\n",
       "    <tr>\n",
       "      <th>3</th>\n",
       "      <td>1.0</td>\n",
       "      <td>PAYMENT</td>\n",
       "      <td>7817.71</td>\n",
       "      <td>53860.0</td>\n",
       "      <td>46042.29</td>\n",
       "      <td>0.0</td>\n",
       "      <td>0.0</td>\n",
       "      <td>0.0</td>\n",
       "    </tr>\n",
       "    <tr>\n",
       "      <th>4</th>\n",
       "      <td>1.0</td>\n",
       "      <td>PAYMENT</td>\n",
       "      <td>7107.77</td>\n",
       "      <td>183195.0</td>\n",
       "      <td>176087.23</td>\n",
       "      <td>0.0</td>\n",
       "      <td>0.0</td>\n",
       "      <td>0.0</td>\n",
       "    </tr>\n",
       "  </tbody>\n",
       "</table>\n",
       "</div>"
      ],
      "text/plain": [
       "   step     type    amount  oldbalanceOrg  newbalanceOrig  oldbalanceDest  \\\n",
       "0   1.0  PAYMENT   9839.64       170136.0       160296.36             0.0   \n",
       "1   1.0  PAYMENT   1864.28        21249.0        19384.72             0.0   \n",
       "2   1.0  PAYMENT  11668.14        41554.0        29885.86             0.0   \n",
       "3   1.0  PAYMENT   7817.71        53860.0        46042.29             0.0   \n",
       "4   1.0  PAYMENT   7107.77       183195.0       176087.23             0.0   \n",
       "\n",
       "   newbalanceDest  isFraud  \n",
       "0             0.0      0.0  \n",
       "1             0.0      0.0  \n",
       "2             0.0      0.0  \n",
       "3             0.0      0.0  \n",
       "4             0.0      0.0  "
      ]
     },
     "execution_count": 204,
     "metadata": {},
     "output_type": "execute_result"
    }
   ],
   "source": [
    "df = df_data_1.copy()\n",
    "df.drop('nameOrig', axis=1, inplace=True)\n",
    "df.drop('nameDest', axis=1, inplace=True)\n",
    "df.drop('isFlaggedFraud', axis=1, inplace=True)\n",
    "df.head()"
   ]
  },
  {
   "cell_type": "code",
   "execution_count": 205,
   "metadata": {},
   "outputs": [
    {
     "name": "stdout",
     "output_type": "stream",
     "text": [
      "<class 'pandas.core.frame.DataFrame'>\n",
      "RangeIndex: 31057 entries, 0 to 31056\n",
      "Data columns (total 8 columns):\n",
      "step              31057 non-null float64\n",
      "type              31057 non-null object\n",
      "amount            31057 non-null float64\n",
      "oldbalanceOrg     31057 non-null float64\n",
      "newbalanceOrig    31057 non-null float64\n",
      "oldbalanceDest    31057 non-null float64\n",
      "newbalanceDest    31057 non-null float64\n",
      "isFraud           31057 non-null float64\n",
      "dtypes: float64(7), object(1)\n",
      "memory usage: 1.9+ MB\n"
     ]
    }
   ],
   "source": [
    "df.info()"
   ]
  },
  {
   "cell_type": "markdown",
   "metadata": {},
   "source": [
    "Histogram of isFraud feature with other features"
   ]
  },
  {
   "cell_type": "code",
   "execution_count": 206,
   "metadata": {},
   "outputs": [
    {
     "data": {
      "text/plain": [
       "isFraud\n",
       "0.0    [[AxesSubplot(0.125,0.670278;0.336957x0.209722...\n",
       "1.0    [[AxesSubplot(0.125,0.670278;0.336957x0.209722...\n",
       "dtype: object"
      ]
     },
     "execution_count": 206,
     "metadata": {},
     "output_type": "execute_result"
    },
    {
     "data": {
      "image/png": "[encoded data removed]",
      "text/plain": [
       "<matplotlib.figure.Figure at 0x2afaa3b6ccf8>"
      ]
     },
     "metadata": {},
     "output_type": "display_data"
    },
    {
     "data": {
      "image/png": "[encoded data removed]",
      "text/plain": [
       "<matplotlib.figure.Figure at 0x2afaa8136550>"
      ]
     },
     "metadata": {},
     "output_type": "display_data"
    }
   ],
   "source": [
    "df.groupby('isFraud').hist(figsize=(16, 20), bins=50, xlabelsize=8, ylabelsize=8,alpha=0.4)"
   ]
  },
  {
   "cell_type": "markdown",
   "metadata": {},
   "source": [
    "Correlation matrix to check multicolinearity between variables and displaying using SNS package"
   ]
  },
  {
   "cell_type": "code",
   "execution_count": 207,
   "metadata": {
    "scrolled": false
   },
   "outputs": [
    {
     "data": {
      "text/plain": [
       "<matplotlib.axes._subplots.AxesSubplot at 0x2afaa8381da0>"
      ]
     },
     "execution_count": 207,
     "metadata": {},
     "output_type": "execute_result"
    },
    {
     "data": {
      "image/png": "[encoded data removed]",
      "text/plain": [
       "<matplotlib.figure.Figure at 0x2afa350869b0>"
      ]
     },
     "metadata": {},
     "output_type": "display_data"
    }
   ],
   "source": [
    "from matplotlib import pyplot as plt\n",
    "import seaborn as sns\n",
    "\n",
    "correlation = df.corr()\n",
    "plt.figure(figsize=(15,15))\n",
    "plt.title('Correlation Matrix')\n",
    "sns.heatmap(correlation, vmax=1, square=True,annot=True,cmap='cubehelix')"
   ]
  },
  {
   "cell_type": "markdown",
   "metadata": {},
   "source": [
    "Creating dummy variables for categorical values and checking the balance of the target class"
   ]
  },
  {
   "cell_type": "code",
   "execution_count": 368,
   "metadata": {
    "scrolled": true
   },
   "outputs": [
    {
     "name": "stdout",
     "output_type": "stream",
     "text": [
      "0.0    29916\n",
      "1.0     1141\n",
      "Name: isFraud, dtype: int64\n"
     ]
    },
    {
     "data": {
      "text/html": [
       "<div>\n",
       "<style scoped>\n",
       "    .dataframe tbody tr th:only-of-type {\n",
       "        vertical-align: middle;\n",
       "    }\n",
       "\n",
       "    .dataframe tbody tr th {\n",
       "        vertical-align: top;\n",
       "    }\n",
       "\n",
       "    .dataframe thead th {\n",
       "        text-align: right;\n",
       "    }\n",
       "</style>\n",
       "<table border=\"1\" class=\"dataframe\">\n",
       "  <thead>\n",
       "    <tr style=\"text-align: right;\">\n",
       "      <th></th>\n",
       "      <th>step</th>\n",
       "      <th>amount</th>\n",
       "      <th>oldbalanceOrg</th>\n",
       "      <th>newbalanceOrig</th>\n",
       "      <th>oldbalanceDest</th>\n",
       "      <th>newbalanceDest</th>\n",
       "      <th>isFraud</th>\n",
       "      <th>CASH_IN</th>\n",
       "      <th>CASH_OUT</th>\n",
       "      <th>DEBIT</th>\n",
       "      <th>PAYMENT</th>\n",
       "      <th>TRANSFER</th>\n",
       "    </tr>\n",
       "  </thead>\n",
       "  <tbody>\n",
       "    <tr>\n",
       "      <th>0</th>\n",
       "      <td>1.0</td>\n",
       "      <td>9839.64</td>\n",
       "      <td>170136.0</td>\n",
       "      <td>160296.36</td>\n",
       "      <td>0.0</td>\n",
       "      <td>0.0</td>\n",
       "      <td>0.0</td>\n",
       "      <td>0</td>\n",
       "      <td>0</td>\n",
       "      <td>0</td>\n",
       "      <td>1</td>\n",
       "      <td>0</td>\n",
       "    </tr>\n",
       "    <tr>\n",
       "      <th>1</th>\n",
       "      <td>1.0</td>\n",
       "      <td>1864.28</td>\n",
       "      <td>21249.0</td>\n",
       "      <td>19384.72</td>\n",
       "      <td>0.0</td>\n",
       "      <td>0.0</td>\n",
       "      <td>0.0</td>\n",
       "      <td>0</td>\n",
       "      <td>0</td>\n",
       "      <td>0</td>\n",
       "      <td>1</td>\n",
       "      <td>0</td>\n",
       "    </tr>\n",
       "    <tr>\n",
       "      <th>2</th>\n",
       "      <td>1.0</td>\n",
       "      <td>11668.14</td>\n",
       "      <td>41554.0</td>\n",
       "      <td>29885.86</td>\n",
       "      <td>0.0</td>\n",
       "      <td>0.0</td>\n",
       "      <td>0.0</td>\n",
       "      <td>0</td>\n",
       "      <td>0</td>\n",
       "      <td>0</td>\n",
       "      <td>1</td>\n",
       "      <td>0</td>\n",
       "    </tr>\n",
       "    <tr>\n",
       "      <th>3</th>\n",
       "      <td>1.0</td>\n",
       "      <td>7817.71</td>\n",
       "      <td>53860.0</td>\n",
       "      <td>46042.29</td>\n",
       "      <td>0.0</td>\n",
       "      <td>0.0</td>\n",
       "      <td>0.0</td>\n",
       "      <td>0</td>\n",
       "      <td>0</td>\n",
       "      <td>0</td>\n",
       "      <td>1</td>\n",
       "      <td>0</td>\n",
       "    </tr>\n",
       "    <tr>\n",
       "      <th>4</th>\n",
       "      <td>1.0</td>\n",
       "      <td>7107.77</td>\n",
       "      <td>183195.0</td>\n",
       "      <td>176087.23</td>\n",
       "      <td>0.0</td>\n",
       "      <td>0.0</td>\n",
       "      <td>0.0</td>\n",
       "      <td>0</td>\n",
       "      <td>0</td>\n",
       "      <td>0</td>\n",
       "      <td>1</td>\n",
       "      <td>0</td>\n",
       "    </tr>\n",
       "  </tbody>\n",
       "</table>\n",
       "</div>"
      ],
      "text/plain": [
       "   step    amount  oldbalanceOrg  newbalanceOrig  oldbalanceDest  \\\n",
       "0   1.0   9839.64       170136.0       160296.36             0.0   \n",
       "1   1.0   1864.28        21249.0        19384.72             0.0   \n",
       "2   1.0  11668.14        41554.0        29885.86             0.0   \n",
       "3   1.0   7817.71        53860.0        46042.29             0.0   \n",
       "4   1.0   7107.77       183195.0       176087.23             0.0   \n",
       "\n",
       "   newbalanceDest  isFraud  CASH_IN  CASH_OUT  DEBIT  PAYMENT  TRANSFER  \n",
       "0             0.0      0.0        0         0      0        1         0  \n",
       "1             0.0      0.0        0         0      0        1         0  \n",
       "2             0.0      0.0        0         0      0        1         0  \n",
       "3             0.0      0.0        0         0      0        1         0  \n",
       "4             0.0      0.0        0         0      0        1         0  "
      ]
     },
     "execution_count": 368,
     "metadata": {},
     "output_type": "execute_result"
    },
    {
     "data": {
      "image/png": "[encoded data removed]",
      "text/plain": [
       "<matplotlib.figure.Figure at 0x2afaaac46198>"
      ]
     },
     "metadata": {},
     "output_type": "display_data"
    }
   ],
   "source": [
    "# creating dummy variables for categorical values \n",
    "\n",
    "dum = pd.get_dummies(df['type'])\n",
    "df1 = pd.concat([df,dum],axis=1)\n",
    "df1.drop(['type'],axis=1, inplace=True)\n",
    "\n",
    "#checking if target class is balanced or not\n",
    "\n",
    "#df2 = df1.sample(n=20000)\n",
    "df2 = df1.copy()  # sample(n=31057)\n",
    "df2.isFraud.value_counts().plot.bar()\n",
    "print(df2.isFraud.value_counts())\n",
    "df2.head()"
   ]
  },
  {
   "cell_type": "markdown",
   "metadata": {},
   "source": [
    "Splitting the data into training and test"
   ]
  },
  {
   "cell_type": "code",
   "execution_count": 369,
   "metadata": {},
   "outputs": [
    {
     "name": "stdout",
     "output_type": "stream",
     "text": [
      "Before OverSampling, counts of label '1': 779\n",
      "Before OverSampling, counts of label '0': 20960 \n",
      "\n",
      "After OverSampling, the shape of train_X: (41920, 11)\n",
      "After OverSampling, the shape of train_y: (41920,) \n",
      "\n",
      "After OverSampling, counts of label '1': 20960\n",
      "After OverSampling, counts of label '0': 20960\n"
     ]
    }
   ],
   "source": [
    "#!pip install imblearn\n",
    "from imblearn.over_sampling import SMOTE\n",
    "from sklearn.model_selection import train_test_split\n",
    "\n",
    "\n",
    "X_train, X_test, y_train, y_test = train_test_split(df2.drop(['isFraud'],axis=1), df2['isFraud'], test_size=0.3, random_state=0)\n",
    "\n",
    "print(\"Before OverSampling, counts of label '1': {}\".format(sum(y_train==1)))\n",
    "print(\"Before OverSampling, counts of label '0': {} \\n\".format(sum(y_train==0)))\n",
    "\n",
    "#resampling the training data\n",
    "\n",
    "sm = SMOTE(random_state=10, ratio = 1.0)\n",
    "x_train_res, y_train_res = sm.fit_sample(X_train, y_train)\n",
    "\n",
    "print('After OverSampling, the shape of train_X: {}'.format(x_train_res.shape))\n",
    "print('After OverSampling, the shape of train_y: {} \\n'.format(y_train_res.shape))\n",
    "\n",
    "print(\"After OverSampling, counts of label '1': {}\".format(sum(y_train_res==1)))\n",
    "print(\"After OverSampling, counts of label '0': {}\".format(sum(y_train_res==0)))"
   ]
  },
  {
   "cell_type": "markdown",
   "metadata": {},
   "source": [
    "Initializing the sequential model and plotting the training curves"
   ]
  },
  {
   "cell_type": "code",
   "execution_count": 532,
   "metadata": {
    "scrolled": false
   },
   "outputs": [
    {
     "name": "stdout",
     "output_type": "stream",
     "text": [
      "Epoch 1/10\n",
      "41920/41920 [==============================] - 2s 42us/step - loss: 0.1734 - acc: 0.9503\n",
      "Epoch 2/10\n",
      "41920/41920 [==============================] - 1s 30us/step - loss: 0.0604 - acc: 0.9780\n",
      "Epoch 3/10\n",
      "41920/41920 [==============================] - 1s 30us/step - loss: 0.0546 - acc: 0.9795\n",
      "Epoch 4/10\n",
      "41920/41920 [==============================] - 1s 32us/step - loss: 0.0504 - acc: 0.9813\n",
      "Epoch 5/10\n",
      "41920/41920 [==============================] - 1s 29us/step - loss: 0.0472 - acc: 0.9821\n",
      "Epoch 6/10\n",
      "41920/41920 [==============================] - 1s 31us/step - loss: 0.0442 - acc: 0.9829\n",
      "Epoch 7/10\n",
      "41920/41920 [==============================] - 1s 29us/step - loss: 0.0424 - acc: 0.9831\n",
      "Epoch 8/10\n",
      "41920/41920 [==============================] - 1s 33us/step - loss: 0.0402 - acc: 0.9843\n",
      "Epoch 9/10\n",
      "41920/41920 [==============================] - 1s 32us/step - loss: 0.0386 - acc: 0.9842\n",
      "Epoch 10/10\n",
      "41920/41920 [==============================] - 1s 32us/step - loss: 0.0371 - acc: 0.9850\n"
     ]
    }
   ],
   "source": [
    "from sklearn.preprocessing import StandardScaler\n",
    "import numpy as np\n",
    "\n",
    "sc = StandardScaler()\n",
    "x_train_scaled = sc.fit_transform(x_train_res)\n",
    "x_test_scaled = sc.transform(X_test)\n",
    "\n",
    "#Initializing the model\n",
    "\n",
    "model = Sequential()\n",
    "model.add(Dense(input_shape=(11,), output_dim = 22, init = 'uniform', activation = 'relu'))\n",
    "model.add(Dense(output_dim = 22, init = 'uniform', activation = 'relu'))\n",
    "model.add(Dense(output_dim = 1, init = 'uniform', activation = 'sigmoid'))\n",
    "\n",
    "model.compile(optimizer = 'adam', loss = 'binary_crossentropy', metrics = ['accuracy'])\n",
    "model_info = model.fit(x_train_scaled, y_train_res, batch_size = 64,  nb_epoch = 10)\n",
    "\n",
    "#batch_size = 64,"
   ]
  },
  {
   "cell_type": "code",
   "execution_count": 533,
   "metadata": {},
   "outputs": [
    {
     "name": "stdout",
     "output_type": "stream",
     "text": [
      "_________________________________________________________________\n",
      "Layer (type)                 Output Shape              Param #   \n",
      "=================================================================\n",
      "dense_62 (Dense)             (None, 22)                264       \n",
      "_________________________________________________________________\n",
      "dense_63 (Dense)             (None, 22)                506       \n",
      "_________________________________________________________________\n",
      "dense_64 (Dense)             (None, 1)                 23        \n",
      "=================================================================\n",
      "Total params: 793\n",
      "Trainable params: 793\n",
      "Non-trainable params: 0\n",
      "_________________________________________________________________\n"
     ]
    }
   ],
   "source": [
    "model.summary()"
   ]
  },
  {
   "cell_type": "code",
   "execution_count": 534,
   "metadata": {},
   "outputs": [
    {
     "data": {
      "image/png": "[encoded data removed]",
      "text/plain": [
       "<matplotlib.figure.Figure at 0x2afae8d3bc88>"
      ]
     },
     "metadata": {},
     "output_type": "display_data"
    }
   ],
   "source": [
    "#Plotting the training curves\n",
    "\n",
    "def plot_model_history(model_history):\n",
    "    fig, axs = plt.subplots(1,2,figsize=(15,5))\n",
    "    # summarize history for accuracy\n",
    "    axs[0].plot(range(1,len(model_history.history['acc'])+1),model_history.history['acc'])\n",
    "    #axs[0].plot(range(1,len(model_history.history['val_acc'])+1),model_history.history['val_acc'])\n",
    "    axs[0].set_title('Model Accuracy')\n",
    "    axs[0].set_ylabel('Accuracy')\n",
    "    axs[0].set_xlabel('Epoch')\n",
    "    axs[0].set_xticks(np.arange(1,len(model_history.history['acc'])+1),len(model_history.history['acc'])/10)\n",
    "    axs[0].legend(['train', 'val'], loc='best')\n",
    "    # summarize history for loss\n",
    "    axs[1].plot(range(1,len(model_history.history['loss'])+1),model_history.history['loss'])\n",
    "    #axs[1].plot(range(1,len(model_history.history['val_loss'])+1),model_history.history['val_loss'])\n",
    "    axs[1].set_title('Model Loss')\n",
    "    axs[1].set_ylabel('Loss')\n",
    "    axs[1].set_xlabel('Epoch')\n",
    "    axs[1].set_xticks(np.arange(1,len(model_history.history['loss'])+1),len(model_history.history['loss'])/10)\n",
    "    axs[1].legend(['train', 'val'], loc='best')\n",
    "    plt.show()\n",
    "plot_model_history(model_info)"
   ]
  },
  {
   "cell_type": "markdown",
   "metadata": {},
   "source": [
    "'#Predicting the test results "
   ]
  },
  {
   "cell_type": "code",
   "execution_count": 535,
   "metadata": {},
   "outputs": [
    {
     "name": "stdout",
     "output_type": "stream",
     "text": [
      "Accuracy: 99.25\n"
     ]
    }
   ],
   "source": [
    "from sklearn.metrics import accuracy_score\n",
    "\n",
    "y_pred = model.predict_classes(x_test_scaled)\n",
    "acc = accuracy_score(y_test,y_pred)*100\n",
    "print('Accuracy:',round(acc,2))\n"
   ]
  },
  {
   "cell_type": "markdown",
   "metadata": {},
   "source": [
    "COnfusion matrix"
   ]
  },
  {
   "cell_type": "code",
   "execution_count": 536,
   "metadata": {
    "scrolled": false
   },
   "outputs": [
    {
     "name": "stdout",
     "output_type": "stream",
     "text": [
      "Confusion matrix \n",
      " [[8909   47]\n",
      " [  23  339]] \n",
      "\n",
      "Classification report \n",
      "               precision    recall  f1-score   support\n",
      "\n",
      "         0.0       1.00      0.99      1.00      8956\n",
      "         1.0       0.88      0.94      0.91       362\n",
      "\n",
      "   micro avg       0.99      0.99      0.99      9318\n",
      "   macro avg       0.94      0.97      0.95      9318\n",
      "weighted avg       0.99      0.99      0.99      9318\n",
      " \n",
      "\n"
     ]
    }
   ],
   "source": [
    "from sklearn.metrics import confusion_matrix\n",
    "from sklearn.metrics import classification_report\n",
    "\n",
    "\n",
    "print('Confusion matrix', '\\n', confusion_matrix(y_test, y_pred), '\\n')\n",
    "print('Classification report', '\\n', classification_report(y_test, y_pred), '\\n')\n"
   ]
  },
  {
   "cell_type": "code",
   "execution_count": 537,
   "metadata": {},
   "outputs": [
    {
     "name": "stdout",
     "output_type": "stream",
     "text": [
      "logs  spark-events  user-libs\r\n"
     ]
    }
   ],
   "source": [
    "!rm AML_Model_FF_0_1.h5\n",
    "!rm AML_Model_FF_0_1.tgz\n",
    "!ls"
   ]
  },
  {
   "cell_type": "markdown",
   "metadata": {},
   "source": [
    "Saving the model for API based consumption"
   ]
  },
  {
   "cell_type": "code",
   "execution_count": 538,
   "metadata": {},
   "outputs": [],
   "source": [
    "save_path = \"AML_Model_FF_0_1.h5\"\n",
    "model.save(save_path)\n"
   ]
  },
  {
   "cell_type": "code",
   "execution_count": 539,
   "metadata": {},
   "outputs": [
    {
     "name": "stdout",
     "output_type": "stream",
     "text": [
      "AML_Model_FF_0_1.h5\n",
      "AML_Model_FF_0_1.h5  AML_Model_FF_0_1.tgz  logs  spark-events  user-libs\n"
     ]
    }
   ],
   "source": [
    "!tar -zcvf AML_Model_FF_0_1.tgz AML_Model_FF_0_1.h5 \n",
    "!ls"
   ]
  },
  {
   "cell_type": "code",
   "execution_count": 540,
   "metadata": {},
   "outputs": [],
   "source": [
    "#!pip install watson-machine-learning-client"
   ]
  },
  {
   "cell_type": "code",
   "execution_count": 541,
   "metadata": {
    "scrolled": true
   },
   "outputs": [],
   "source": [
    "from watson_machine_learning_client import WatsonMachineLearningAPIClient"
   ]
  },
  {
   "cell_type": "code",
   "execution_count": 542,
   "metadata": {},
   "outputs": [],
   "source": [
    "wml_credentials ={\n",
    "  \"apikey\": \"vVVYZ7BiuTVBGhD8jbvbP6pLydQtkK21EQuAKf4kmlKH\",\n",
    "  \"iam_apikey_description\": \"Auto generated apikey during resource-key operation for Instance - crn:v1:bluemix:public:pm-20:eu-gb:a/0500b84bed484c97b162efb1d69c2c5e:1a4e6e5d-d9c5-46c8-af76-cfba2787aaa7::\",\n",
    "  \"iam_apikey_name\": \"auto-generated-apikey-ade30250-41dd-47c2-96d9-1706aa21f1e0\",\n",
    "  \"iam_role_crn\": \"crn:v1:bluemix:public:iam::::serviceRole:Writer\",\n",
    "  \"iam_serviceid_crn\": \"crn:v1:bluemix:public:iam-identity::a/0500b84bed484c97b162efb1d69c2c5e::serviceid:ServiceId-a6e6b111-a00a-415c-8f59-4095bef85a0e\",\n",
    "  \"instance_id\": \"1a4e6e5d-d9c5-46c8-af76-cfba2787aaa7\",\n",
    "  \"password\": \"9e3da692-7556-4037-a5ec-b763aeb084da\",\n",
    "  \"url\": \"https://eu-gb.ml.cloud.ibm.com\",\n",
    "  \"username\": \"ade30250-41dd-47c2-96d9-1706aa21f1e0\"\n",
    "}"
   ]
  },
  {
   "cell_type": "code",
   "execution_count": 543,
   "metadata": {},
   "outputs": [],
   "source": [
    "client = WatsonMachineLearningAPIClient(wml_credentials)"
   ]
  },
  {
   "cell_type": "code",
   "execution_count": 544,
   "metadata": {},
   "outputs": [],
   "source": [
    "import json"
   ]
  },
  {
   "cell_type": "markdown",
   "metadata": {},
   "source": [
    "Defining the model properties"
   ]
  },
  {
   "cell_type": "code",
   "execution_count": 545,
   "metadata": {},
   "outputs": [],
   "source": [
    "model_props = {\n",
    "    client.repository.ModelMetaNames.AUTHOR_NAME:'imran pachapuri',\n",
    "    client.repository.ModelMetaNames.AUTHOR_EMAIL: 'imran_pachapuri@gmail.com',\n",
    "    client.repository.ModelMetaNames.NAME: 'Keras based FF Network',\n",
    "    client.repository.ModelMetaNames.FRAMEWORK_NAME: 'tensorflow',\n",
    "    client.repository.ModelMetaNames.FRAMEWORK_VERSION: '1.5',\n",
    "    client.repository.ModelMetaNames.FRAMEWORK_LIBRARIES: [{\"name\":\"keras\",\"version\":\"2.1.3\"}]\n",
    "}\n",
    "\n",
    "#client.repository.ModelMetaNames.FRAMEWORK_NAME: 'tensorflow',"
   ]
  },
  {
   "cell_type": "code",
   "execution_count": 546,
   "metadata": {},
   "outputs": [
    {
     "name": "stdout",
     "output_type": "stream",
     "text": [
      "----  ----  ----  -----  -------  ---------  -------------\n",
      "GUID  NAME  TYPE  STATE  CREATED  FRAMEWORK  ARTIFACT TYPE\n",
      "----  ----  ----  -----  -------  ---------  -------------\n"
     ]
    }
   ],
   "source": [
    "client.deployments.delete(\"898aec21-3b82-414e-a1c0-fd6c204d7a84\")\n",
    "cdl_uid = client.deployments.list()\n",
    "\n"
   ]
  },
  {
   "cell_type": "code",
   "execution_count": 547,
   "metadata": {},
   "outputs": [],
   "source": [
    "published_model = client.repository.store_model(model='AML_Model_FF_0_1.tgz', meta_props=model_props)"
   ]
  },
  {
   "cell_type": "code",
   "execution_count": 548,
   "metadata": {},
   "outputs": [],
   "source": [
    "published_model_uid = client.repository.get_model_uid(published_model)\n",
    "model_details = client.repository.get_model_details(published_model_uid)"
   ]
  },
  {
   "cell_type": "code",
   "execution_count": 549,
   "metadata": {
    "scrolled": true
   },
   "outputs": [
    {
     "data": {
      "text/plain": [
       "{'entity': {'author': {'name': 'imran pachapuri'},\n",
       "  'deployments': {'count': 0,\n",
       "   'url': 'https://eu-gb.ml.cloud.ibm.com/v3/wml_instances/1a4e6e5d-d9c5-46c8-af76-cfba2787aaa7/published_models/044953a6-c253-4a26-99e0-ba26a8791170/deployments'},\n",
       "  'evaluation_metrics_url': 'https://eu-gb.ml.cloud.ibm.com/v3/wml_instances/1a4e6e5d-d9c5-46c8-af76-cfba2787aaa7/published_models/044953a6-c253-4a26-99e0-ba26a8791170/evaluation_metrics',\n",
       "  'feedback_url': 'https://eu-gb.ml.cloud.ibm.com/v3/wml_instances/1a4e6e5d-d9c5-46c8-af76-cfba2787aaa7/published_models/044953a6-c253-4a26-99e0-ba26a8791170/feedback',\n",
       "  'latest_version': {'created_at': '2019-03-02T13:58:04.578Z',\n",
       "   'guid': 'f4ba4682-3a05-4ccf-970b-e47ae0a23871',\n",
       "   'url': 'https://eu-gb.ml.cloud.ibm.com/v3/ml_assets/models/044953a6-c253-4a26-99e0-ba26a8791170/versions/f4ba4682-3a05-4ccf-970b-e47ae0a23871'},\n",
       "  'learning_configuration_url': 'https://eu-gb.ml.cloud.ibm.com/v3/wml_instances/1a4e6e5d-d9c5-46c8-af76-cfba2787aaa7/published_models/044953a6-c253-4a26-99e0-ba26a8791170/learning_configuration',\n",
       "  'learning_iterations_url': 'https://eu-gb.ml.cloud.ibm.com/v3/wml_instances/1a4e6e5d-d9c5-46c8-af76-cfba2787aaa7/published_models/044953a6-c253-4a26-99e0-ba26a8791170/learning_iterations',\n",
       "  'model_type': 'tensorflow-1.5',\n",
       "  'name': 'Keras based FF Network',\n",
       "  'runtime_environment': 'None Provided'},\n",
       " 'metadata': {'created_at': '2019-03-02T13:58:04.526Z',\n",
       "  'guid': '044953a6-c253-4a26-99e0-ba26a8791170',\n",
       "  'modified_at': '2019-03-02T13:58:04.578Z',\n",
       "  'url': 'https://eu-gb.ml.cloud.ibm.com/v3/wml_instances/1a4e6e5d-d9c5-46c8-af76-cfba2787aaa7/published_models/044953a6-c253-4a26-99e0-ba26a8791170'}}"
      ]
     },
     "execution_count": 549,
     "metadata": {},
     "output_type": "execute_result"
    }
   ],
   "source": [
    "model_details"
   ]
  },
  {
   "cell_type": "code",
   "execution_count": 550,
   "metadata": {
    "scrolled": true
   },
   "outputs": [
    {
     "name": "stdout",
     "output_type": "stream",
     "text": [
      "----  ----  ----  -----  -------  ---------  -------------\n",
      "GUID  NAME  TYPE  STATE  CREATED  FRAMEWORK  ARTIFACT TYPE\n",
      "----  ----  ----  -----  -------  ---------  -------------\n"
     ]
    }
   ],
   "source": [
    "client.deployments.list() #.delete(\"157468c3-e67d-4781-8c59-44df2fc4d697\")"
   ]
  },
  {
   "cell_type": "markdown",
   "metadata": {},
   "source": [
    "Model deployment"
   ]
  },
  {
   "cell_type": "code",
   "execution_count": 551,
   "metadata": {
    "scrolled": false
   },
   "outputs": [
    {
     "name": "stdout",
     "output_type": "stream",
     "text": [
      "\n",
      "\n",
      "#######################################################################################\n",
      "\n",
      "Synchronous deployment creation for uid: '044953a6-c253-4a26-99e0-ba26a8791170' started\n",
      "\n",
      "#######################################################################################\n",
      "\n",
      "\n",
      "INITIALIZING\n",
      "DEPLOY_IN_PROGRESS\n",
      "DEPLOY_SUCCESS\n",
      "\n",
      "\n",
      "------------------------------------------------------------------------------------------------\n",
      "Successfully finished deployment creation, deployment_uid='e4129d0d-702e-4aa0-b821-fc48bf7b0a8d'\n",
      "------------------------------------------------------------------------------------------------\n",
      "\n",
      "\n"
     ]
    }
   ],
   "source": [
    "created_deployment = client.deployments.create(published_model_uid, name=\"AML_MODEL_01\")"
   ]
  },
  {
   "cell_type": "code",
   "execution_count": 552,
   "metadata": {},
   "outputs": [
    {
     "name": "stdout",
     "output_type": "stream",
     "text": [
      "------------------------------------  ------------  ------  --------------  ------------------------  --------------  -------------\n",
      "GUID                                  NAME          TYPE    STATE           CREATED                   FRAMEWORK       ARTIFACT TYPE\n",
      "e4129d0d-702e-4aa0-b821-fc48bf7b0a8d  AML_MODEL_01  online  DEPLOY_SUCCESS  2019-03-02T13:58:07.550Z  tensorflow-1.5  model\n",
      "------------------------------------  ------------  ------  --------------  ------------------------  --------------  -------------\n"
     ]
    }
   ],
   "source": [
    "client.deployments.list()"
   ]
  },
  {
   "cell_type": "code",
   "execution_count": 553,
   "metadata": {},
   "outputs": [
    {
     "name": "stdout",
     "output_type": "stream",
     "text": [
      "https://eu-gb.ml.cloud.ibm.com/v3/wml_instances/1a4e6e5d-d9c5-46c8-af76-cfba2787aaa7/deployments/e4129d0d-702e-4aa0-b821-fc48bf7b0a8d/online\n"
     ]
    }
   ],
   "source": [
    "scoring_endpoint = created_deployment['entity']['scoring_url']\n",
    "print(scoring_endpoint)"
   ]
  },
  {
   "cell_type": "code",
   "execution_count": 554,
   "metadata": {},
   "outputs": [
    {
     "data": {
      "text/plain": [
       "dict"
      ]
     },
     "execution_count": 554,
     "metadata": {},
     "output_type": "execute_result"
    }
   ],
   "source": [
    "\n",
    "scoring_payload = {\"fields\": [\"step\", \"amount\", \"oldbalanceOrg\", \"newbalanceOrig\", \"oldbalanceDest\", \"newbalanceDest\", \"CASH_IN\", \"CASH_OUT\", \"DEBIT\", \"PAYMENT\", \"TRANSFER\"] ,\"values\":[1.0, 62610.80, 79114.00, 16503.20, 517.00, 8383.29, 0, 0, 0, 0, 1]}\n",
    "#scoring_payload = {\"value\": [1.0, 62610.80, 79114.00, 16503.20, 517.00, 8383.29, 0, 0, 0, 0, 1]}\n",
    "type(scoring_payload)\n",
    "\n",
    "\n"
   ]
  },
  {
   "cell_type": "markdown",
   "metadata": {},
   "source": [
    "Running the prediction against the deployed model (!Not Working)"
   ]
  },
  {
   "cell_type": "code",
   "execution_count": 555,
   "metadata": {
    "scrolled": true
   },
   "outputs": [
    {
     "ename": "ApiRequestFailure",
     "evalue": "Failure during scoring. (POST https://eu-gb.ml.cloud.ibm.com/v3/wml_instances/1a4e6e5d-d9c5-46c8-af76-cfba2787aaa7/deployments/e4129d0d-702e-4aa0-b821-fc48bf7b0a8d/online)\nStatus code: 400, body: {\"trace\": \"c52b3fb8b0f009404983cf0f63626e98\", \"errors\": [{\"code\": \"invalid_input_data\", \"message\": \"Incorrect input data: Cannot feed value of shape (11,) for Tensor 'dense_62_input:0', which has shape '(?, 11)'\"}], \"status_code\": 400}\n",
     "output_type": "error",
     "traceback": [
      "\u001b[0;31m---------------------------------------------------------------------------\u001b[0m",
      "\u001b[0;31mApiRequestFailure\u001b[0m                         Traceback (most recent call last)",
      "\u001b[0;32m<ipython-input-555-63b3ff17bcb0>\u001b[0m in \u001b[0;36m<module>\u001b[0;34m()\u001b[0m\n\u001b[1;32m      1\u001b[0m \u001b[0;34m\u001b[0m\u001b[0m\n\u001b[0;32m----> 2\u001b[0;31m \u001b[0mpredictions_test\u001b[0m \u001b[0;34m=\u001b[0m \u001b[0mclient\u001b[0m\u001b[0;34m.\u001b[0m\u001b[0mdeployments\u001b[0m\u001b[0;34m.\u001b[0m\u001b[0mscore\u001b[0m\u001b[0;34m(\u001b[0m\u001b[0mscoring_endpoint\u001b[0m\u001b[0;34m,\u001b[0m \u001b[0mscoring_payload\u001b[0m\u001b[0;34m)\u001b[0m\u001b[0;34m\u001b[0m\u001b[0m\n\u001b[0m\u001b[1;32m      3\u001b[0m \u001b[0mprint\u001b[0m\u001b[0;34m(\u001b[0m\u001b[0mpredictions_test\u001b[0m\u001b[0;34m[\u001b[0m\u001b[0;34m\"values\"\u001b[0m\u001b[0;34m]\u001b[0m\u001b[0;34m[\u001b[0m\u001b[0;36m0\u001b[0m\u001b[0;34m]\u001b[0m\u001b[0;34m[\u001b[0m\u001b[0;36m1\u001b[0m\u001b[0;34m]\u001b[0m\u001b[0;34m)\u001b[0m\u001b[0;34m\u001b[0m\u001b[0m\n",
      "\u001b[0;32m~/user-libs/python3/watson_machine_learning_client/deployments.py\u001b[0m in \u001b[0;36mscore\u001b[0;34m(self, scoring_url, payload, transaction_id)\u001b[0m\n\u001b[1;32m    841\u001b[0m                 verify=False)\n\u001b[1;32m    842\u001b[0m \u001b[0;34m\u001b[0m\u001b[0m\n\u001b[0;32m--> 843\u001b[0;31m         \u001b[0;32mreturn\u001b[0m \u001b[0mself\u001b[0m\u001b[0;34m.\u001b[0m\u001b[0m_handle_response\u001b[0m\u001b[0;34m(\u001b[0m\u001b[0;36m200\u001b[0m\u001b[0;34m,\u001b[0m \u001b[0;34mu'scoring'\u001b[0m\u001b[0;34m,\u001b[0m \u001b[0mresponse_scoring\u001b[0m\u001b[0;34m)\u001b[0m\u001b[0;34m\u001b[0m\u001b[0m\n\u001b[0m\u001b[1;32m    844\u001b[0m \u001b[0;34m\u001b[0m\u001b[0m\n\u001b[1;32m    845\u001b[0m     \u001b[0;32mdef\u001b[0m \u001b[0m_get_deployable_asset_type\u001b[0m\u001b[0;34m(\u001b[0m\u001b[0mself\u001b[0m\u001b[0;34m,\u001b[0m \u001b[0mdetails\u001b[0m\u001b[0;34m)\u001b[0m\u001b[0;34m:\u001b[0m\u001b[0;34m\u001b[0m\u001b[0m\n",
      "\u001b[0;32m~/user-libs/python3/watson_machine_learning_client/wml_resource.py\u001b[0m in \u001b[0;36m_handle_response\u001b[0;34m(self, expected_status_code, operationName, response, json_response)\u001b[0m\n\u001b[1;32m     53\u001b[0m                 \u001b[0;32mreturn\u001b[0m \u001b[0mresponse\u001b[0m\u001b[0;34m.\u001b[0m\u001b[0mtext\u001b[0m\u001b[0;34m\u001b[0m\u001b[0m\n\u001b[1;32m     54\u001b[0m         \u001b[0;32melse\u001b[0m\u001b[0;34m:\u001b[0m\u001b[0;34m\u001b[0m\u001b[0m\n\u001b[0;32m---> 55\u001b[0;31m             \u001b[0;32mraise\u001b[0m \u001b[0mApiRequestFailure\u001b[0m\u001b[0;34m(\u001b[0m\u001b[0;34mu'Failure during {}.'\u001b[0m\u001b[0;34m.\u001b[0m\u001b[0mformat\u001b[0m\u001b[0;34m(\u001b[0m\u001b[0moperationName\u001b[0m\u001b[0;34m)\u001b[0m\u001b[0;34m,\u001b[0m \u001b[0mresponse\u001b[0m\u001b[0;34m)\u001b[0m\u001b[0;34m\u001b[0m\u001b[0m\n\u001b[0m\u001b[1;32m     56\u001b[0m \u001b[0;34m\u001b[0m\u001b[0m\n\u001b[1;32m     57\u001b[0m     \u001b[0;34m@\u001b[0m\u001b[0mstaticmethod\u001b[0m\u001b[0;34m\u001b[0m\u001b[0m\n",
      "\u001b[0;31mApiRequestFailure\u001b[0m: Failure during scoring. (POST https://eu-gb.ml.cloud.ibm.com/v3/wml_instances/1a4e6e5d-d9c5-46c8-af76-cfba2787aaa7/deployments/e4129d0d-702e-4aa0-b821-fc48bf7b0a8d/online)\nStatus code: 400, body: {\"trace\": \"c52b3fb8b0f009404983cf0f63626e98\", \"errors\": [{\"code\": \"invalid_input_data\", \"message\": \"Incorrect input data: Cannot feed value of shape (11,) for Tensor 'dense_62_input:0', which has shape '(?, 11)'\"}], \"status_code\": 400}\n"
     ]
    }
   ],
   "source": [
    "\n",
    "predictions_test = client.deployments.score(scoring_endpoint, scoring_payload)\n",
    "print(predictions_test[\"values\"][0][1])"
   ]
  }
 ],
 "metadata": {
  "kernelspec": {
   "display_name": "Python 3.5 with Spark",
   "language": "python3",
   "name": "python3"
  },
  "language_info": {
   "codemirror_mode": {
    "name": "ipython",
    "version": 3
   },
   "file_extension": ".py",
   "mimetype": "text/x-python",
   "name": "python",
   "nbconvert_exporter": "python",
   "pygments_lexer": "ipython3",
   "version": "3.5.4"
  }
 },
 "nbformat": 4,
 "nbformat_minor": 1
}
